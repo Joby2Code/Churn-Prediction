{
 "cells": [
  {
   "cell_type": "code",
   "execution_count": 34,
   "metadata": {},
   "outputs": [
    {
     "name": "stdout",
     "output_type": "stream",
     "text": [
      "College ['zero' 'one'] \n",
      "REPORTED_SATISFACTION ['unsat' 'very_unsat' 'very_sat' 'avg' 'sat'] \n",
      "REPORTED_USAGE_LEVEL ['little' 'very_little' 'very_high' 'high' 'avg'] \n",
      "CONSIDERING_CHANGE_OF_PLAN ['no' 'considering' 'perhaps' 'never_thought' 'actively_looking_into_it']\n",
      "College ['one' 'zero'] \n",
      "REPORTED_SATISFACTION ['very_unsat' 'unsat' 'avg' 'very_sat' 'sat'] \n",
      "REPORTED_USAGE_LEVEL ['very_little' 'high' 'very_high' 'little' 'avg'] \n",
      "CONSIDERING_CHANGE_OF_PLAN ['actively_looking_into_it' 'no' 'considering' 'perhaps' 'never_thought']\n"
     ]
    }
   ],
   "source": [
    "import pandas as pd\n",
    "\n",
    "#Constants\n",
    "#To read the files\n",
    "File_Path_Train_DataSet = 'train.csv'\n",
    "File_Path_Test_DataSet = 'test.csv'\n",
    "\n",
    "#Subroutine to clean data\n",
    "\n",
    "def cleanData(data):\n",
    "    #used t#used to remove rows which have nan values, need not be used in our analysis as we dont have any nan values in our dataseto remove rows which have nan values, need not be used in our analysis as we dont have any nan values in our dataset\n",
    "    data.dropna(how='any',inplace=True)\n",
    "    print(\"College\",data.COLLEGE.unique(), \"\\nREPORTED_SATISFACTION\",data.REPORTED_SATISFACTION.unique(), \"\\nREPORTED_USAGE_LEVEL\",data.REPORTED_USAGE_LEVEL.unique(),\"\\nCONSIDERING_CHANGE_OF_PLAN\",data.CONSIDERING_CHANGE_OF_PLAN.unique())\n",
    "    data['COLLEGE'] = data['COLLEGE'].replace({\"one\":1,\"zero\":0})\n",
    "    data['REPORTED_SATISFACTION'] = data['REPORTED_SATISFACTION'].replace({\"very_sat\" : 5, \"sat\" : 4, \"avg\" : 3, \"unsat\" : 2, \"very_unsat\" : 1})   \n",
    "    data['REPORTED_USAGE_LEVEL'] = data['REPORTED_USAGE_LEVEL'].replace({\"very_little\" : 1, \"little\" : 2, \"avg\" : 3, \"high\" : 4, \"very_high\" : 5})\n",
    "    data['CONSIDERING_CHANGE_OF_PLAN'] = data['CONSIDERING_CHANGE_OF_PLAN'].replace({\"no\" : 0, \"considering\" : 1, \"perhaps\" : 2, \"never_thought\" : 3, \"actively_looking_into_it\" : 4})\n",
    "   # print(data.dtypes)\n",
    "    return data\n",
    "\n",
    "df_train = pd.read_csv(File_Path_Train_DataSet);\n",
    "df_test = pd.read_csv(File_Path_Test_DataSet)\n",
    "\n",
    "df_train = cleanData(df_train)\n",
    "df_test = cleanData(df_test)\n"
   ]
  },
  {
   "cell_type": "code",
   "execution_count": 33,
   "metadata": {
    "collapsed": true
   },
   "outputs": [],
   "source": [
    "import matplotlib.pyplot as plt\n",
    "from sklearn.linear_model import LogisticRegression\n",
    "from sklearn.cross_validation import train_test_split\n",
    "from sklearn.metrics import accuracy_score\n",
    "from sklearn.tree import DecisionTreeClassifier\n",
    "from sklearn import tree\n",
    "from sklearn import svm\n",
    "\n",
    "df_features_train = df_train[df_train.columns[0: 11]]\n",
    "Y = df_train[\"LEAVE\"]\n",
    "X = df_features_train\n",
    "df_features_train.head(5)\n",
    "\n",
    "X_samples = df_test[df_test.columns[0: 11]]\n",
    "#Split the data\n",
    "X_train, X_test, Y_train, Y_test = train_test_split(X, Y, test_size=0.3, random_state=0)\n"
   ]
  },
  {
   "cell_type": "code",
   "execution_count": 31,
   "metadata": {},
   "outputs": [
    {
     "name": "stdout",
     "output_type": "stream",
     "text": [
      "Accuracy of logistic regression classifier on test set: 0.63\n"
     ]
    }
   ],
   "source": [
    "\n",
    "# Implement logistic regression\n",
    "\n",
    "logreg = LogisticRegression()\n",
    "logreg.fit(X_train,Y_train)\n",
    "\n",
    "#Calculating the accuracy\n",
    "Y_pred = logreg.predict(X_test)\n",
    "print('Accuracy of logistic regression classifier on test set: {:.2f}'.format(accuracy_score(Y_test,Y_pred)))\n",
    "Y_pred = logreg.predict(X_samples)\n",
    "df_test[\"LEAVE\"] = Y_pred\n",
    "df_test.LEAVE.to_csv(\"Output/test_submit_log.csv\")"
   ]
  },
  {
   "cell_type": "code",
   "execution_count": 30,
   "metadata": {},
   "outputs": [
    {
     "name": "stdout",
     "output_type": "stream",
     "text": [
      "Accuracy of Decision Tree classifier on test set: 0.70\n"
     ]
    }
   ],
   "source": [
    "#Decision Tree Classifier\n",
    "\n",
    "clf_entropy = DecisionTreeClassifier(criterion = \"entropy\", random_state = 100,max_depth=32,max_leaf_nodes=19)\n",
    "clf_entropy.fit(X_train, Y_train)\n",
    "\n",
    "#Calculating the accuracy\n",
    "Y_pred = clf_entropy.predict(X_test)\n",
    "print('Accuracy of Decision Tree classifier on test set: {:.2f}'.format(accuracy_score(Y_pred,Y_test)))  \n",
    "Y_pred = clf_entropy.predict(X_samples)\n",
    "df_test[\"LEAVE\"] = Y_pred\n",
    "df_test.LEAVE.to_csv(\"Output/test_submit_desicion.csv\")"
   ]
  },
  {
   "cell_type": "code",
   "execution_count": 32,
   "metadata": {},
   "outputs": [
    {
     "name": "stdout",
     "output_type": "stream",
     "text": [
      "10-fold cross validation average accuracy: 0.706\n"
     ]
    }
   ],
   "source": [
    "# Cross Validation\n",
    "from sklearn import model_selection\n",
    "from sklearn.model_selection import cross_val_score\n",
    "kfold = model_selection.KFold(n_splits=10, random_state=7)\n",
    "#modelCV = LogisticRegression()\n",
    "modelCV = DecisionTreeClassifier(criterion = \"entropy\", random_state = 200,max_depth=5,max_leaf_nodes=12)\n",
    "scoring = 'accuracy'\n",
    "results = model_selection.cross_val_score(modelCV, X_train, Y_train, cv=kfold, scoring=scoring)\n",
    "print(\"10-fold cross validation average accuracy: %.3f\" % (results.mean()))"
   ]
  },
  {
   "cell_type": "code",
   "execution_count": null,
   "metadata": {
    "collapsed": true
   },
   "outputs": [],
   "source": []
  }
 ],
 "metadata": {
  "kernelspec": {
   "display_name": "Python 3",
   "language": "python",
   "name": "python3"
  },
  "language_info": {
   "codemirror_mode": {
    "name": "ipython",
    "version": 3
   },
   "file_extension": ".py",
   "mimetype": "text/x-python",
   "name": "python",
   "nbconvert_exporter": "python",
   "pygments_lexer": "ipython3",
   "version": "3.6.1"
  }
 },
 "nbformat": 4,
 "nbformat_minor": 2
}
